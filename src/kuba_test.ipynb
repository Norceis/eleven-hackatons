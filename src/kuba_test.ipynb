{
 "cells": [
  {
   "cell_type": "markdown",
   "metadata": {},
   "source": [
    "# TEXT FEEDBACK"
   ]
  },
  {
   "cell_type": "code",
   "execution_count": 26,
   "metadata": {},
   "outputs": [
    {
     "name": "stdout",
     "output_type": "stream",
     "text": [
      "Please give me feedback about my speech and how I can improve it. Respond in JSON format with the following keys: goal, tone, audience, additional_information, general_opinion.The goal of the presentation is To make it knowledgable for people about global warming. The tone of the presentation should be educational and precise. The audience for the presentation is people who are not aware of global warming. Additional information: make sure i sound smart. The template for your response should be as follows:{  \"goal\": {    \"achieved\": true/false,    \"comment\": \"\"  },  \"tone\": {    \"achieved\": true/false,    \"comment\": \"\"  },  \"audience\": {    \"achieved\": true/false,    \"comment\": \"\"  },  \"additional_information\": {    \"comment\": \"\"  },  \"general_opinion\": {    \"comment\": \"\"  }}The speech is as follows: Title: The Urgency of Global Warming: A Call to Action\n",
      "\n",
      "Introduction Good [morning/afternoon/evening] everyone,\n",
      "\n",
      "Today, I stand before you to discuss one of the most pressing challenges of our time: global warming. It is not just a scientific concept or a distant problem—it is happening now, and its impacts are being felt worldwide. From rising temperatures to extreme weather events, global warming is reshaping our planet and threatening our future. But while the problem is urgent, there is still hope. We have the power to take action and make a difference.\n",
      "\n",
      "The Science Behind Global Warming Global warming is the result of human activities, primarily the burning of fossil fuels such as coal, oil, and gas. These activities release greenhouse gases like carbon dioxide (CO2) and methane (CH4) into the atmosphere, trapping heat and causing the Earth's temperature to rise. According to scientists, the Earth's average temperature has increased by more than 1 degree Celsius since the late 19th century, and if we do not act now, we could see even more drastic changes in the years ahead.\n",
      "\n",
      "The Consequences of Global Warming The effects of global warming are undeniable:\n",
      "\n",
      "    Rising Sea Levels: Due to the melting of polar ice caps and glaciers, sea levels are rising, putting coastal communities at risk of flooding and displacement.\n",
      "\n",
      "    Extreme Weather: We are experiencing more frequent and intense hurricanes, droughts, heatwaves, and wildfires.\n",
      "\n",
      "    Loss of Biodiversity: Many species are struggling to survive as their habitats disappear or become uninhabitable.\n",
      "\n",
      "    Threats to Human Health: Increased temperatures contribute to heat-related illnesses, food and water shortages, and the spread of diseases.\n",
      "\n",
      "What Can We Do? While the challenges of global warming are immense, we still have solutions. Here’s what we can do:\n",
      "\n",
      "    Reduce Carbon Emissions: Transitioning to renewable energy sources like solar and wind power, improving energy efficiency, and promoting public transportation can help cut emissions.\n",
      "\n",
      "    Support Sustainable Practices: Reducing waste, conserving water, and adopting plant-based diets can lessen our environmental footprint.\n",
      "\n",
      "    Advocate for Change: Governments and businesses play a crucial role in tackling global warming. By supporting policies that promote clean energy and sustainability, we can push for systemic change.\n",
      "\n",
      "    Educate and Raise Awareness: Spreading knowledge about climate change and its effects can inspire others to take action.\n",
      "\n",
      "Conclusion The fight against global warming is a challenge that requires collective effort. Every action, no matter how small, contributes to a larger movement toward a sustainable future. The time to act is now. Let us come together, make informed choices, and be the change our planet so desperately needs.\n",
      "\n",
      "Thank you.\n",
      "\n",
      "\n",
      "\n"
     ]
    }
   ],
   "source": [
    "from dotenv import load_dotenv\n",
    "import os\n",
    "\n",
    "load_dotenv()\n",
    "\n",
    "# api_key = os.getenv('API_KEY')\n",
    "SPEECH = \"\"\"Title: The Urgency of Global Warming: A Call to Action\n",
    "\n",
    "Introduction Good [morning/afternoon/evening] everyone,\n",
    "\n",
    "Today, I stand before you to discuss one of the most pressing challenges of our time: global warming. It is not just a scientific concept or a distant problem—it is happening now, and its impacts are being felt worldwide. From rising temperatures to extreme weather events, global warming is reshaping our planet and threatening our future. But while the problem is urgent, there is still hope. We have the power to take action and make a difference.\n",
    "\n",
    "The Science Behind Global Warming Global warming is the result of human activities, primarily the burning of fossil fuels such as coal, oil, and gas. These activities release greenhouse gases like carbon dioxide (CO2) and methane (CH4) into the atmosphere, trapping heat and causing the Earth's temperature to rise. According to scientists, the Earth's average temperature has increased by more than 1 degree Celsius since the late 19th century, and if we do not act now, we could see even more drastic changes in the years ahead.\n",
    "\n",
    "The Consequences of Global Warming The effects of global warming are undeniable:\n",
    "\n",
    "    Rising Sea Levels: Due to the melting of polar ice caps and glaciers, sea levels are rising, putting coastal communities at risk of flooding and displacement.\n",
    "\n",
    "    Extreme Weather: We are experiencing more frequent and intense hurricanes, droughts, heatwaves, and wildfires.\n",
    "\n",
    "    Loss of Biodiversity: Many species are struggling to survive as their habitats disappear or become uninhabitable.\n",
    "\n",
    "    Threats to Human Health: Increased temperatures contribute to heat-related illnesses, food and water shortages, and the spread of diseases.\n",
    "\n",
    "What Can We Do? While the challenges of global warming are immense, we still have solutions. Here’s what we can do:\n",
    "\n",
    "    Reduce Carbon Emissions: Transitioning to renewable energy sources like solar and wind power, improving energy efficiency, and promoting public transportation can help cut emissions.\n",
    "\n",
    "    Support Sustainable Practices: Reducing waste, conserving water, and adopting plant-based diets can lessen our environmental footprint.\n",
    "\n",
    "    Advocate for Change: Governments and businesses play a crucial role in tackling global warming. By supporting policies that promote clean energy and sustainability, we can push for systemic change.\n",
    "\n",
    "    Educate and Raise Awareness: Spreading knowledge about climate change and its effects can inspire others to take action.\n",
    "\n",
    "Conclusion The fight against global warming is a challenge that requires collective effort. Every action, no matter how small, contributes to a larger movement toward a sustainable future. The time to act is now. Let us come together, make informed choices, and be the change our planet so desperately needs.\n",
    "\n",
    "Thank you.\n",
    "\n",
    "\n",
    "\"\"\"\n",
    "\n",
    "data = {\n",
    "    \"goal\": \"To make it knowledgable for people about global warming\",\n",
    "    \"tone\": \"educational and precise\",\n",
    "    \"audience\": \"people who are not aware of global warming\",\n",
    "    \"additional information\": \"make sure i sound smart\",\n",
    "    \"speech\": SPEECH\n",
    "}\n",
    "\n",
    "\n",
    "\n",
    "LLM_INSTRUCTION = (\n",
    "    f\"Please give me feedback about my speech and how I can improve it. Respond in JSON format with the following keys: goal, tone, audience, additional_information, general_opinion.\"\n",
    "    f\"The goal of the presentation is {data['goal']}. \"\n",
    "    f\"The tone of the presentation should be {data['tone']}. \"\n",
    "    f\"The audience for the presentation is {data['audience']}. \"\n",
    "    f\"Additional information: {data['additional information']}. \"\n",
    "    f\"The template for your response should be as follows:\"\n",
    "    f\"{{\"\n",
    "    f\"  \\\"goal\\\": {{\"\n",
    "    f\"    \\\"achieved\\\": true/false,\"\n",
    "    f\"    \\\"comment\\\": \\\"\\\"\"\n",
    "    f\"  }},\"\n",
    "    f\"  \\\"tone\\\": {{\"\n",
    "    f\"    \\\"achieved\\\": true/false,\"\n",
    "    f\"    \\\"comment\\\": \\\"\\\"\"\n",
    "    f\"  }},\"\n",
    "    f\"  \\\"audience\\\": {{\"\n",
    "    f\"    \\\"achieved\\\": true/false,\"\n",
    "    f\"    \\\"comment\\\": \\\"\\\"\"\n",
    "    f\"  }},\"\n",
    "    f\"  \\\"additional_information\\\": {{\"\n",
    "    f\"    \\\"comment\\\": \\\"\\\"\"\n",
    "    f\"  }},\"\n",
    "    f\"  \\\"general_opinion\\\": {{\"\n",
    "    f\"    \\\"comment\\\": \\\"\\\"\"\n",
    "    f\"  }}\"\n",
    "    f\"}}\"\n",
    "    f\"The speech is as follows: {data['speech']}\"\n",
    ")\n",
    "\n",
    "print(LLM_INSTRUCTION)\n",
    "\n"
   ]
  },
  {
   "cell_type": "code",
   "execution_count": 35,
   "metadata": {},
   "outputs": [
    {
     "name": "stdout",
     "output_type": "stream",
     "text": [
      "{'goal': {'achieved': True, 'comment': 'The speech successfully conveys information about global warming to a lay audience.  It covers the basics of the science, consequences, and potential solutions.'}, 'tone': {'achieved': True, 'comment': 'The tone is generally educational and precise.  The language is clear and avoids overly technical jargon.'}, 'audience': {'achieved': True, 'comment': 'The speech is appropriate for an audience unfamiliar with global warming.  The explanations are straightforward and avoid overwhelming the audience with complex details.'}, 'additional_information': {'comment': 'To sound even \\'smarter,\\' consider incorporating a few specific examples or case studies to illustrate the points made. For example, mention a specific coastal city threatened by rising sea levels, or a particular species affected by habitat loss.  Adding a compelling statistic at the beginning (e.g., \"Average global temperatures have risen by X degrees in the last Y years\") could also enhance the impact.  Consider referencing reputable sources (e.g., IPCC) to lend authority. Finally, refining the call to action section with specific, actionable steps individuals can take could be beneficial.'}, 'general_opinion': {'comment': 'This is a good, informative speech on global warming. It is well-structured and easy to follow.  While achieving its stated goals, incorporating specific examples, data, and reputable sources will elevate it to a more impactful and authoritative presentation.  The conclusion is effective in emphasizing the need for collective action.'}}\n"
     ]
    }
   ],
   "source": [
    "import fal_client\n",
    "from tqdm import tqdm\n",
    "import json\n",
    "\n",
    "def on_queue_update(update):\n",
    "    if isinstance(update, fal_client.InProgress):\n",
    "        for log in update.logs:\n",
    "           print(log[\"message\"])\n",
    "\n",
    "TEMPLATE_UNIQUE_KEYNAMES = {\n",
    "    \"goal\",\n",
    "    \"tone\",\n",
    "    \"audience\",\n",
    "    \"additional_information\",\n",
    "    \"general_opinion\"\n",
    "}\n",
    "\n",
    "\n",
    "TEMPLATE_UNIQUE_KEYNAMES_NESTED = {\n",
    "    \"achieved\",\n",
    "    \"comment\"\n",
    "}\n",
    "while True:\n",
    "    unique_keynames=set()\n",
    "    unique_keynames_nested=set()\n",
    "    # for i in tqdm(range(100)):\n",
    "    result = fal_client.subscribe(\n",
    "        \"fal-ai/any-llm\",\n",
    "        arguments={\n",
    "            \"prompt\": LLM_INSTRUCTION\n",
    "        },\n",
    "        with_logs=True,\n",
    "        on_queue_update=on_queue_update,\n",
    "    )\n",
    "    \n",
    "    try:\n",
    "        json_string = result['output'][7:-4]\n",
    "\n",
    "        json_object = json.loads(json_string)\n",
    "        unique_keynames.update(json_object.keys())\n",
    "        for key in json_object.keys():\n",
    "            if isinstance(json_object[key], dict):\n",
    "                unique_keynames_nested.update(json_object[key].keys())\n",
    "                \n",
    "        if unique_keynames == TEMPLATE_UNIQUE_KEYNAMES and unique_keynames_nested == TEMPLATE_UNIQUE_KEYNAMES_NESTED:\n",
    "            break\n",
    "    except json.JSONDecodeError:\n",
    "        continue\n",
    "\n",
    "print(json_object)\n",
    "    \n",
    "# print(result['output'][7:-4])"
   ]
  },
  {
   "cell_type": "code",
   "execution_count": 33,
   "metadata": {},
   "outputs": [
    {
     "data": {
      "text/plain": [
       "{'additional_information', 'audience', 'general_opinion', 'goal', 'tone'}"
      ]
     },
     "execution_count": 33,
     "metadata": {},
     "output_type": "execute_result"
    }
   ],
   "source": [
    "unique_keynames"
   ]
  },
  {
   "cell_type": "code",
   "execution_count": 22,
   "metadata": {},
   "outputs": [
    {
     "name": "stdout",
     "output_type": "stream",
     "text": [
      "goal {'achieved': True, 'comment': 'The speech effectively conveys the basic science of global warming and its consequences.  The inclusion of solutions makes it educational and action-oriented. However, it could benefit from more specific examples and data to strengthen its impact.'}\n",
      "tone {'achieved': True, 'comment': 'The tone is generally educational and precise.  The language is clear and avoids overly technical jargon.  Maintaining this precise tone while adding more engaging elements would further enhance the speech.'}\n",
      "audience {'achieved': True, 'comment': 'The speech is well-suited for an audience unfamiliar with global warming.  The explanation of the science is accessible, and the solutions offered are practical and relatable.'}\n",
      "additional_information {'fulfilled': False, 'comment': \"While the speech is informative, it doesn't necessarily sound exceptionally 'smart.'  Adding specific data (e.g., statistics on temperature change, sea level rise, species extinction rates), referencing specific scientific studies, or using more sophisticated vocabulary (while ensuring clarity) would elevate its perceived intelligence.\"}\n",
      "general_opinion {'comment': 'The speech is a good starting point. It effectively covers the key aspects of global warming.  To improve, focus on adding more compelling data, specific examples, and perhaps a more emotionally resonant narrative to engage the audience and make it more memorable.  Consider incorporating visual aids to enhance understanding.'}\n"
     ]
    },
    {
     "data": {
      "text/plain": [
       "[None, None, None, None, None]"
      ]
     },
     "execution_count": 22,
     "metadata": {},
     "output_type": "execute_result"
    }
   ],
   "source": [
    "import json\n",
    "\n",
    "json_string = result['output'][7:-4]\n",
    "\n",
    "# Replace 'false' and 'true' with 'False' and 'True' to make it valid Python syntax\n",
    "json_object = json.loads(json_string)\n",
    "[print(key, value) for key, value in json_object.items()]"
   ]
  },
  {
   "cell_type": "markdown",
   "metadata": {},
   "source": [
    "# SPEECH  TO TEXT"
   ]
  },
  {
   "cell_type": "code",
   "execution_count": 3,
   "metadata": {},
   "outputs": [],
   "source": [
    "url = fal_client.upload_file(\"/home/jkowalczewski/Documents/eleven-hackatons/sample.mp3\")"
   ]
  },
  {
   "cell_type": "code",
   "execution_count": 4,
   "metadata": {},
   "outputs": [
    {
     "data": {
      "text/plain": [
       "'https://v3.fal.media/files/panda/lfURqSSJxYyCYFPCIMXo3_sample.mp3'"
      ]
     },
     "execution_count": 4,
     "metadata": {},
     "output_type": "execute_result"
    }
   ],
   "source": [
    "url"
   ]
  },
  {
   "cell_type": "code",
   "execution_count": 9,
   "metadata": {},
   "outputs": [
    {
     "name": "stdout",
     "output_type": "stream",
     "text": [
      " The urgency of global warming. Call to action. Good morning, everyone. Today I stand before you to discuss one of the most pressing challenges of our time. Global warming. It is not just a scientific concept or a distant problem. It is happening now.\n"
     ]
    }
   ],
   "source": [
    "handler = fal_client.submit(\n",
    "    \"fal-ai/whisper\",\n",
    "    arguments={\n",
    "        \"audio_url\": \"https://v3.fal.media/files/panda/lfURqSSJxYyCYFPCIMXo3_sample.mp3\"\n",
    "    },\n",
    "    webhook_url=\"https://optional.webhook.url/for/results\",\n",
    ")\n",
    "\n",
    "request_id = handler.request_id\n",
    "result = fal_client.result(\"fal-ai/whisper\", request_id)\n",
    "print(result['text'])"
   ]
  },
  {
   "cell_type": "code",
   "execution_count": 10,
   "metadata": {},
   "outputs": [
    {
     "data": {
      "text/plain": [
       "{'text': ' The urgency of global warming. Call to action. Good morning, everyone. Today I stand before you to discuss one of the most pressing challenges of our time. Global warming. It is not just a scientific concept or a distant problem. It is happening now.',\n",
       " 'chunks': [{'timestamp': [0.0, 6.0],\n",
       "   'text': ' The urgency of global warming. Call to action.',\n",
       "   'speaker': None},\n",
       "  {'timestamp': [6.0, 13.0],\n",
       "   'text': ' Good morning, everyone. Today I stand before you to discuss one of the most pressing challenges of our time.',\n",
       "   'speaker': None},\n",
       "  {'timestamp': [13.0, 21.94],\n",
       "   'text': ' Global warming. It is not just a scientific concept or a distant problem. It is happening now.',\n",
       "   'speaker': None}],\n",
       " 'inferred_languages': ['en'],\n",
       " 'diarization_segments': []}"
      ]
     },
     "execution_count": 10,
     "metadata": {},
     "output_type": "execute_result"
    }
   ],
   "source": [
    "result"
   ]
  },
  {
   "cell_type": "markdown",
   "metadata": {},
   "source": [
    "# REFINING TEXT"
   ]
  },
  {
   "cell_type": "code",
   "execution_count": 37,
   "metadata": {},
   "outputs": [],
   "source": [
    "REFINING_PROMPT = (\n",
    "    f\"Please refine the speech according to these suggestions\"\n",
    "    f\"{json_object}\"\n",
    "    f\"\\n\"\n",
    "    f\"The speech is as follows: {data['speech']}\"\n",
    ")"
   ]
  },
  {
   "cell_type": "code",
   "execution_count": 38,
   "metadata": {},
   "outputs": [
    {
     "name": "stdout",
     "output_type": "stream",
     "text": [
      "The Urgency of Global Warming: A Call to Action\n",
      "\n",
      "Introduction\n",
      "\n",
      "Good [morning/afternoon/evening] everyone,\n",
      "\n",
      "Today, I want to talk about one of the most pressing challenges facing humanity: global warming.  Average global temperatures have risen by approximately 1 degree Celsius since the late 19th century – a change driven largely by human activities and already causing significant impacts worldwide.  This isn't just a distant threat;  it's affecting our lives right now, from the extreme weather events we experience to the subtle but concerning shifts in our ecosystems.  But while the challenge is immense, so too is our potential to act and create a more sustainable future.\n",
      "\n",
      "The Science Behind Global Warming\n",
      "\n",
      "Global warming is primarily caused by the release of greenhouse gases, such as carbon dioxide and methane, into the atmosphere. These gases, emitted largely through the burning of fossil fuels (coal, oil, and natural gas), trap heat and cause a warming effect on the planet. This is a well-established scientific consensus, supported by numerous studies and organizations like the Intergovernmental Panel on Climate Change (IPCC).\n",
      "\n",
      "The Consequences of Global Warming\n",
      "\n",
      "The effects of global warming are already evident and stark:\n",
      "\n",
      "* **Rising Sea Levels:**  Sea levels are rising, threatening coastal communities like Miami, Florida, and the island nation of Tuvalu, which face increased risks of flooding and displacement.  The melting of glaciers and polar ice caps is accelerating this process.\n",
      "* **Extreme Weather Events:** We’re seeing a dramatic increase in the frequency and intensity of hurricanes, droughts, heatwaves, and wildfires. For example, the intensity of hurricanes hitting the US Gulf Coast has noticeably worsened in recent decades.\n",
      "* **Loss of Biodiversity:**  Many species, from polar bears losing their sea ice habitat to coral reefs bleaching due to warmer ocean temperatures, are struggling to adapt to the rapidly changing climate.  The extinction rate is accelerating.\n",
      "* **Threats to Human Health:** Rising temperatures exacerbate heat-related illnesses, contribute to food and water shortages, and facilitate the spread of infectious diseases, affecting vulnerable populations disproportionately.\n",
      "\n",
      "\n",
      "What Can We Do?\n",
      "\n",
      "Addressing this challenge requires a multifaceted approach:\n",
      "\n",
      "* **Reduce Carbon Emissions:**  Transitioning to renewable energy sources like solar and wind power is crucial.  Improving energy efficiency in our buildings and transportation systems is equally important. Supporting policies that incentivize the adoption of electric vehicles and public transportation can significantly reduce our carbon footprint.\n",
      "* **Support Sustainable Practices:** We can reduce our environmental impact by reducing waste, conserving water, choosing sustainable products, and adopting more plant-based diets.\n",
      "* **Advocate for Change:**  Demand action from governments and corporations. Support policies that promote clean energy, invest in climate adaptation measures, and hold polluters accountable. Vote for leaders who prioritize climate action.\n",
      "* **Educate and Raise Awareness:**  Talk to your friends and family about climate change.  Share accurate information and encourage them to engage in sustainable practices.\n",
      "\n",
      "\n",
      "Conclusion\n",
      "\n",
      "The fight against global warming demands collective action.  We need to adopt sustainable lifestyles, support policies that promote a green economy, and hold those responsible for excessive emissions accountable. Every individual action, no matter how small, contributes to a larger movement. Let's work together to build a sustainable and resilient future for generations to come.  The time to act is now.\n",
      "\n",
      "Thank y\n"
     ]
    }
   ],
   "source": [
    "result = fal_client.subscribe(\n",
    "    \"fal-ai/any-llm\",\n",
    "    arguments={\n",
    "        \"prompt\": REFINING_PROMPT\n",
    "    },\n",
    "    with_logs=True,\n",
    "    on_queue_update=on_queue_update,\n",
    ")\n",
    "print(result['output'][7:-4])"
   ]
  },
  {
   "cell_type": "code",
   "execution_count": null,
   "metadata": {},
   "outputs": [],
   "source": []
  }
 ],
 "metadata": {
  "kernelspec": {
   "display_name": "env",
   "language": "python",
   "name": "python3"
  },
  "language_info": {
   "codemirror_mode": {
    "name": "ipython",
    "version": 3
   },
   "file_extension": ".py",
   "mimetype": "text/x-python",
   "name": "python",
   "nbconvert_exporter": "python",
   "pygments_lexer": "ipython3",
   "version": "3.10.12"
  }
 },
 "nbformat": 4,
 "nbformat_minor": 2
}
